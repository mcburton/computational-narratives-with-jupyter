{
 "cells": [
  {
   "cell_type": "markdown",
   "metadata": {},
   "source": [
    "# Composing Computational Narratives with Jupyter\n",
    "\n",
    "![Who am I](images/whoami.png)"
   ]
  },
  {
   "cell_type": "raw",
   "metadata": {},
   "source": []
  },
  {
   "cell_type": "raw",
   "metadata": {},
   "source": []
  },
  {
   "cell_type": "raw",
   "metadata": {},
   "source": []
  },
  {
   "cell_type": "raw",
   "metadata": {},
   "source": []
  },
  {
   "cell_type": "raw",
   "metadata": {},
   "source": []
  },
  {
   "cell_type": "raw",
   "metadata": {},
   "source": []
  },
  {
   "cell_type": "markdown",
   "metadata": {},
   "source": [
    "\n",
    "# Learning Objectives\n",
    "\n",
    "1. Understand the concept and potential significance of computational notebooks.\n",
    "\n",
    "2. Describe the architecture of a Jupyter notebook environment, including the notebook server, programming language kernels, and situate Jupyter notebooks as part of the wider Jupyter ecosystem.\n",
    "\n",
    "3. Use a Jupyter notebook to create, manage and report on the execution of a programmatic workflow using a structured document combining narrative text, executable code, executed code output and embedded media items.\n",
    "\n",
    "4. Know about how Jupyter Notebooks are being used in teaching, reproducible research, and computational publishing.\n",
    "\n",
    "# Agenda\n",
    "\n",
    "1. [Computational Narratives](1-Computational-Narratives.ipynb)\n",
    "2. [Intro to Jupyter](2-Intro-to-Jupyter.ipynb)\n",
    "3. [Composing Jupyter Notebooks](3-Composing-Jupyter-Notebooks.ipynb)\n",
    "4. [Notebooks in the Wild](4-Notebooks-in-the-Wild.ipynb)"
   ]
  },
  {
   "cell_type": "raw",
   "metadata": {},
   "source": []
  },
  {
   "cell_type": "raw",
   "metadata": {},
   "source": []
  },
  {
   "cell_type": "raw",
   "metadata": {},
   "source": []
  },
  {
   "cell_type": "raw",
   "metadata": {},
   "source": []
  },
  {
   "cell_type": "raw",
   "metadata": {},
   "source": []
  },
  {
   "cell_type": "raw",
   "metadata": {},
   "source": []
  }
 ],
 "metadata": {
  "kernelspec": {
   "display_name": "Python 3",
   "language": "python",
   "name": "python3"
  },
  "language_info": {
   "codemirror_mode": {
    "name": "ipython",
    "version": 3
   },
   "file_extension": ".py",
   "mimetype": "text/x-python",
   "name": "python",
   "nbconvert_exporter": "python",
   "pygments_lexer": "ipython3",
   "version": "3.6.5"
  }
 },
 "nbformat": 4,
 "nbformat_minor": 2
}
